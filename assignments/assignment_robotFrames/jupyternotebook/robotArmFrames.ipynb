{
 "cells": [
  {
   "cell_type": "markdown",
   "id": "30c7ecb8",
   "metadata": {
    "colab_type": "text",
    "id": "view-in-github"
   },
   "source": [
    "<a href=\"https://colab.research.google.com/github/eraldoribeiro/cse5280/blob/main/assignments/assignment_robotFrames/robotArmFrames.ipynb\" target=\"_parent\"><img src=\"https://colab.research.google.com/assets/colab-badge.svg\" alt=\"Open In Colab\"/></a>"
   ]
  },
  {
   "cell_type": "code",
   "execution_count": 1,
   "id": "312fd7bf",
   "metadata": {
    "colab": {
     "base_uri": "https://localhost:8080/",
     "height": 36
    },
    "id": "d963a9dd",
    "outputId": "4724c6e4-af85-43a2-f205-889a53f1f27a"
   },
   "outputs": [
    {
     "data": {
      "application/vnd.google.colaboratory.intrinsic+json": {
       "type": "string"
      },
      "text/plain": [
       "' Kinematic chain of a robot arm (planar)\\n    Assignment \\n'"
      ]
     },
     "execution_count": 1,
     "metadata": {},
     "output_type": "execute_result"
    }
   ],
   "source": [
    "\"\"\" Kinematic chain of a robot arm (planar)\n",
    "    Assignment \n",
    "\"\"\""
   ]
  },
  {
   "cell_type": "markdown",
   "id": "ba6568e4",
   "metadata": {
    "id": "7936981a"
   },
   "source": [
    "\n",
    "![](robotArm01.png)\n",
    "*Figure 1*: A two-dimensional articulated arm. The articulated structure has 3 local coordinate frames each one centered at a joint. For each part, the local x-axis is aligned with the part.  \n",
    "\n",
    "Consider the arm structure shown in Figure 1. Assume the following values for the arm configuration: \n",
    "- The location of the first joint (i.e., the one that is attached to the ground support) is ${\\bf p}_1 = \\left(3,2\\right)^\\mathsf{T}$. \n",
    "- The lengths of the parts are $L_1 = 5$ and  $L_2 = 8$."
   ]
  },
  {
   "cell_type": "code",
   "execution_count": 2,
   "id": "2a4e0632",
   "metadata": {
    "id": "58735727"
   },
   "outputs": [],
   "source": [
    "import numpy as np\n",
    "import math as mph"
   ]
  },
  {
   "cell_type": "markdown",
   "id": "0b27c659",
   "metadata": {
    "id": "e569bc97"
   },
   "source": [
    "### Question 1\n",
    "\n",
    "Write the matrices that represent the local coordinate frames $\\mathcal F\\{1\\}$, $\\mathcal F\\{2\\}$, and $\\mathcal F\\{3\\}$. These frames are indicated in green in Figure 1. The transformation matrices you need to write are $T_{0,1}$, $T_{1,2}$, and $T_{2,3}$."
   ]
  },
  {
   "cell_type": "code",
   "execution_count": 3,
   "id": "5ddc94ae",
   "metadata": {
    "id": "95259997"
   },
   "outputs": [],
   "source": [
    "# Answer goes here. Add more code/markdown cells as needed\n",
    "\n",
    "\n"
   ]
  },
  {
   "cell_type": "markdown",
   "id": "08eafd4c",
   "metadata": {
    "id": "242d5bd5"
   },
   "source": [
    "### Question 2\n",
    "\n",
    "Write the matrices that represent each local frame w.r.t. the global frame $\\mathcal F\\{0\\}$. The transformations you need to write are $T_{0,1}$, $T_{0,2}$, and $T_{0,3}$."
   ]
  },
  {
   "cell_type": "code",
   "execution_count": 4,
   "id": "468d7a8a",
   "metadata": {
    "id": "22734f91"
   },
   "outputs": [],
   "source": [
    "# Answer goes here. Add more code/markdown cells as needed\n",
    "\n",
    "\n"
   ]
  },
  {
   "cell_type": "markdown",
   "id": "dbfe60c7",
   "metadata": {
    "id": "b7bcbe27"
   },
   "source": [
    "### Question 3\n",
    "\n",
    "Write the matrices that represent the local coordinate frames $\\mathcal F\\{1\\}$, $\\mathcal F\\{2\\}$, and $\\mathcal F\\{3\\}$. These frames are indicated in green in Figure 1. The transformation matrices you need to write are $T_{0,1}$, $T_{1,2}$, and $T_{2,3}$."
   ]
  },
  {
   "cell_type": "code",
   "execution_count": 5,
   "id": "bb0c3c41",
   "metadata": {
    "id": "ba0d7e5b"
   },
   "outputs": [],
   "source": [
    "# Answer goes here. Add more code/markdown cells as needed\n",
    "\n",
    "\n"
   ]
  },
  {
   "cell_type": "markdown",
   "id": "80d5ab08",
   "metadata": {
    "id": "3ba6b262"
   },
   "source": [
    "### Question 4\n",
    "\n",
    "Using the transformations from the previous questions, calculate the global coordinates of the middle point of each part of the robot arm when $\\phi_1 = \\pi/8$ and $\\phi_2 = \\pi/4$. Hint: the location of the middle point of part 1 is $(\\frac{L_1}{2},0)^\\mathsf{T}$ (w.r.t. frame $\\mathcal F\\{1\\}$)."
   ]
  },
  {
   "cell_type": "code",
   "execution_count": 6,
   "id": "39fc9399",
   "metadata": {
    "id": "358a8be0"
   },
   "outputs": [],
   "source": [
    "# Answer goes here. Add more code/markdown cells as needed\n",
    "\n",
    "\n",
    "\n",
    "\n"
   ]
  },
  {
   "cell_type": "markdown",
   "id": "7b1d733f",
   "metadata": {
    "id": "1ffb5fbb"
   },
   "source": [
    "### Question 5\n",
    "\n",
    "Using the transformations from the previous questions, calculate the global coordinates of all the joint points and the end-effector location when $\\phi_1 = \\pi/4$ and $\\phi_2 = \\pi/8$. "
   ]
  },
  {
   "cell_type": "code",
   "execution_count": 7,
   "id": "817e8a81",
   "metadata": {
    "id": "2fecae58"
   },
   "outputs": [],
   "source": [
    "# Answer goes here. Add more code/markdown cells as needed\n",
    "\n",
    "\n",
    "\n"
   ]
  },
  {
   "cell_type": "markdown",
   "id": "66b1cac7",
   "metadata": {
    "id": "64fd75c1"
   },
   "source": [
    "### Question 6\n",
    "\n",
    "Write the matrix that represents the coordinate frame of the end effector w.r.t. frame  $\\mathcal F\\{1\\}$, i.e., $T_{1,3}$"
   ]
  },
  {
   "cell_type": "code",
   "execution_count": 8,
   "id": "cf5fb9dd",
   "metadata": {
    "id": "801f3988",
    "tags": []
   },
   "outputs": [],
   "source": [
    "# Answer goes here. Add more code/markdown cells as needed\n",
    "\n",
    "\n"
   ]
  },
  {
   "cell_type": "markdown",
   "id": "3a84cb79",
   "metadata": {
    "id": "96fd7451"
   },
   "source": [
    "### Question 7\n",
    "\n",
    "Write the matrix that represents the coordinate frame $\\mathcal F\\{1\\}$ w.r.t. to the frame of the end effector"
   ]
  },
  {
   "cell_type": "code",
   "execution_count": 9,
   "id": "b39f8800",
   "metadata": {
    "id": "2c6e286e"
   },
   "outputs": [],
   "source": [
    "# Answer goes here. Add more code/markdown cells as needed\n",
    "\n",
    "\n"
   ]
  }
 ],
 "metadata": {
  "colab": {
   "include_colab_link": true,
   "provenance": []
  },
  "kernelspec": {
   "display_name": "Python 3",
   "language": "python",
   "name": "python3"
  },
  "language_info": {
   "codemirror_mode": {
    "name": "ipython",
    "version": 3
   },
   "file_extension": ".py",
   "mimetype": "text/x-python",
   "name": "python",
   "nbconvert_exporter": "python",
   "pygments_lexer": "ipython3",
   "version": "3.9.2"
  }
 },
 "nbformat": 4,
 "nbformat_minor": 5
}

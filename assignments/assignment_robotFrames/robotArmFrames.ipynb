{
 "cells": [
  {
   "cell_type": "code",
   "execution_count": 5,
   "id": "d963a9dd",
   "metadata": {},
   "outputs": [
    {
     "data": {
      "text/plain": [
       "' Kinematic chain of a robot arm (planar)\\n    Assignment \\n'"
      ]
     },
     "execution_count": 5,
     "metadata": {},
     "output_type": "execute_result"
    }
   ],
   "source": [
    "\"\"\" Kinematic chain of a robot arm (planar)\n",
    "    Assignment \n",
    "\"\"\""
   ]
  },
  {
   "cell_type": "markdown",
   "id": "7936981a",
   "metadata": {},
   "source": [
    "\n",
    "![](figs/robotArm01.png)\n",
    "*Figure 1*: A two-dimensional articulated arm. The articulated structure has 3 local coordinate frames each one centered at a joint. For each part, the local x-axis is aligned with the part.  \n",
    "\n",
    "Consider the arm structure shown in Figure 1. Assume the following values for the arm configuration: \n",
    "- The location of the first joint (i.e., the one that is attached to the ground support) is ${\\bf p}_1 = \\left(3,2\\right)^\\mathsf{T}$. \n",
    "- The lengths of the parts are $L_1 = 5$ and  $L_2 = 8$."
   ]
  },
  {
   "cell_type": "code",
   "execution_count": 6,
   "id": "58735727",
   "metadata": {},
   "outputs": [],
   "source": [
    "from vedo import dataurl, Mesh, show\n",
    "import numpy as np\n",
    "import math as mph"
   ]
  },
  {
   "cell_type": "markdown",
   "id": "e569bc97",
   "metadata": {},
   "source": [
    "### Question 1\n",
    "\n",
    "Write the matrices that represent the local coordinate frames $\\mathcal F\\{1\\}$, $\\mathcal F\\{2\\}$, and $\\mathcal F\\{3\\}$. These frames are indicated in green in Figure 1. The transformation matrices you need to write are $T_{0,1}$, $T_{1,2}$, and $T_{2,3}$."
   ]
  },
  {
   "cell_type": "code",
   "execution_count": 7,
   "id": "95259997",
   "metadata": {},
   "outputs": [],
   "source": [
    "# Answer goes here. Add more code/markdown cells as needed\n",
    "\n",
    "\n"
   ]
  },
  {
   "cell_type": "markdown",
   "id": "242d5bd5",
   "metadata": {},
   "source": [
    "### Question 2\n",
    "\n",
    "Write the matrices that represent each local frame w.r.t. the global frame $\\mathcal F\\{0\\}$. The transformations you need to write are $T_{0,1}$, $T_{0,2}$, and $T_{0,3}$."
   ]
  },
  {
   "cell_type": "code",
   "execution_count": 8,
   "id": "22734f91",
   "metadata": {},
   "outputs": [],
   "source": [
    "# Answer goes here. Add more code/markdown cells as needed\n",
    "\n",
    "\n"
   ]
  },
  {
   "cell_type": "markdown",
   "id": "b7bcbe27",
   "metadata": {},
   "source": [
    "### Question 3\n",
    "\n",
    "Write the matrices that represent the local coordinate frames $\\mathcal F\\{1\\}$, $\\mathcal F\\{2\\}$, and $\\mathcal F\\{3\\}$. These frames are indicated in green in Figure 1. The transformation matrices you need to write are $T_{0,1}$, $T_{1,2}$, and $T_{2,3}$."
   ]
  },
  {
   "cell_type": "code",
   "execution_count": 9,
   "id": "ba0d7e5b",
   "metadata": {},
   "outputs": [],
   "source": [
    "# Answer goes here. Add more code/markdown cells as needed\n",
    "\n",
    "\n"
   ]
  },
  {
   "cell_type": "markdown",
   "id": "3ba6b262",
   "metadata": {},
   "source": [
    "### Question 4\n",
    "\n",
    "Using the transformations from the previous questions, calculate the global coordinates of the middle point of each part of the robot arm when $\\phi_1 = \\pi/8$ and $\\phi_2 = \\pi/4$. Hint: the location of the middle point of part 1 is $(\\frac{L_1}{2},0)^\\mathsf{T}$ (w.r.t. frame $\\mathcal F\\{1\\}$)."
   ]
  },
  {
   "cell_type": "code",
   "execution_count": 10,
   "id": "358a8be0",
   "metadata": {},
   "outputs": [],
   "source": [
    "# Answer goes here. Add more code/markdown cells as needed\n",
    "\n",
    "\n",
    "\n",
    "\n"
   ]
  },
  {
   "cell_type": "markdown",
   "id": "1ffb5fbb",
   "metadata": {},
   "source": [
    "### Question 5\n",
    "\n",
    "Using the transformations from the previous questions, calculate the global coordinates of all the joint points and the end-effector location when $\\phi_1 = \\pi/4$ and $\\phi_2 = \\pi/8$. "
   ]
  },
  {
   "cell_type": "code",
   "execution_count": 11,
   "id": "2fecae58",
   "metadata": {},
   "outputs": [],
   "source": [
    "# Answer goes here. Add more code/markdown cells as needed\n",
    "\n",
    "\n",
    "\n"
   ]
  },
  {
   "cell_type": "markdown",
   "id": "64fd75c1",
   "metadata": {},
   "source": [
    "### Question 6\n",
    "\n",
    "Write the matrix that represents the coordinate frame of the end effector w.r.t. frame  $\\mathcal F\\{1\\}$, i.e., $T_{1,3}$"
   ]
  },
  {
   "cell_type": "code",
   "execution_count": 12,
   "id": "801f3988",
   "metadata": {
    "tags": []
   },
   "outputs": [],
   "source": [
    "# Answer goes here. Add more code/markdown cells as needed\n",
    "\n",
    "\n"
   ]
  },
  {
   "cell_type": "markdown",
   "id": "96fd7451",
   "metadata": {},
   "source": [
    "### Question 7\n",
    "\n",
    "Write the matrix that represents the coordinate frame $\\mathcal F\\{1\\}$ w.r.t. to the frame of the end effector"
   ]
  },
  {
   "cell_type": "code",
   "execution_count": 13,
   "id": "2c6e286e",
   "metadata": {},
   "outputs": [],
   "source": [
    "# Answer goes here. Add more code/markdown cells as needed\n",
    "\n",
    "\n"
   ]
  }
 ],
 "metadata": {
  "kernelspec": {
   "display_name": "Python 3",
   "language": "python",
   "name": "python3"
  },
  "language_info": {
   "codemirror_mode": {
    "name": "ipython",
    "version": 3
   },
   "file_extension": ".py",
   "mimetype": "text/x-python",
   "name": "python",
   "nbconvert_exporter": "python",
   "pygments_lexer": "ipython3",
   "version": "3.9.2"
  }
 },
 "nbformat": 4,
 "nbformat_minor": 5
}
